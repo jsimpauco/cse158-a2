{
 "cells": [
  {
   "cell_type": "code",
   "execution_count": 1,
   "id": "eabb2d1a-2a89-497b-856d-2a13b6cb8be3",
   "metadata": {},
   "outputs": [],
   "source": [
    "import gzip\n",
    "import numpy as np\n",
    "import pandas as pd\n",
    "import matplotlib.pyplot as plt"
   ]
  },
  {
   "cell_type": "code",
   "execution_count": 2,
   "id": "b4dad7b2-c096-4a21-b6ca-372f54fa32ec",
   "metadata": {},
   "outputs": [],
   "source": [
    "def readJSON(path):\n",
    "    f = gzip.open(path, 'rt')\n",
    "    f.readline()\n",
    "    for l in f:\n",
    "        try:\n",
    "            d = eval(l)\n",
    "            yield d\n",
    "        except:\n",
    "            continue"
   ]
  },
  {
   "cell_type": "code",
   "execution_count": 3,
   "id": "fcaec173-0c2d-4b4b-81b4-9b4c692e6113",
   "metadata": {},
   "outputs": [],
   "source": [
    "dataset = []\n",
    "for l in readJSON('renttherunway_final_data.json.gz'):\n",
    "    dataset.append(l)\n",
    "clothing = pd.DataFrame(dataset)"
   ]
  },
  {
   "cell_type": "code",
   "execution_count": 4,
   "id": "0be3957d-7155-46ec-ba92-3f8f3661c795",
   "metadata": {},
   "outputs": [
    {
     "data": {
      "text/html": [
       "<div>\n",
       "<style scoped>\n",
       "    .dataframe tbody tr th:only-of-type {\n",
       "        vertical-align: middle;\n",
       "    }\n",
       "\n",
       "    .dataframe tbody tr th {\n",
       "        vertical-align: top;\n",
       "    }\n",
       "\n",
       "    .dataframe thead th {\n",
       "        text-align: right;\n",
       "    }\n",
       "</style>\n",
       "<table border=\"1\" class=\"dataframe\">\n",
       "  <thead>\n",
       "    <tr style=\"text-align: right;\">\n",
       "      <th></th>\n",
       "      <th>fit</th>\n",
       "      <th>user_id</th>\n",
       "      <th>bust size</th>\n",
       "      <th>item_id</th>\n",
       "      <th>weight</th>\n",
       "      <th>rating</th>\n",
       "      <th>rented for</th>\n",
       "      <th>review_text</th>\n",
       "      <th>body type</th>\n",
       "      <th>review_summary</th>\n",
       "      <th>category</th>\n",
       "      <th>height</th>\n",
       "      <th>size</th>\n",
       "      <th>age</th>\n",
       "      <th>review_date</th>\n",
       "    </tr>\n",
       "  </thead>\n",
       "  <tbody>\n",
       "    <tr>\n",
       "      <th>0</th>\n",
       "      <td>fit</td>\n",
       "      <td>273551</td>\n",
       "      <td>34b</td>\n",
       "      <td>153475</td>\n",
       "      <td>132lbs</td>\n",
       "      <td>10</td>\n",
       "      <td>other</td>\n",
       "      <td>I rented this dress for a photo shoot. The the...</td>\n",
       "      <td>straight &amp; narrow</td>\n",
       "      <td>I felt so glamourous!!!</td>\n",
       "      <td>gown</td>\n",
       "      <td>5' 6\"</td>\n",
       "      <td>12</td>\n",
       "      <td>36</td>\n",
       "      <td>June 18, 2013</td>\n",
       "    </tr>\n",
       "    <tr>\n",
       "      <th>1</th>\n",
       "      <td>fit</td>\n",
       "      <td>360448</td>\n",
       "      <td>NaN</td>\n",
       "      <td>1063761</td>\n",
       "      <td>NaN</td>\n",
       "      <td>10</td>\n",
       "      <td>party</td>\n",
       "      <td>This hugged in all the right places! It was a ...</td>\n",
       "      <td>NaN</td>\n",
       "      <td>It was a great time to celebrate the (almost) ...</td>\n",
       "      <td>sheath</td>\n",
       "      <td>5' 4\"</td>\n",
       "      <td>4</td>\n",
       "      <td>116</td>\n",
       "      <td>December 14, 2015</td>\n",
       "    </tr>\n",
       "    <tr>\n",
       "      <th>2</th>\n",
       "      <td>fit</td>\n",
       "      <td>909926</td>\n",
       "      <td>34c</td>\n",
       "      <td>126335</td>\n",
       "      <td>135lbs</td>\n",
       "      <td>8</td>\n",
       "      <td>formal affair</td>\n",
       "      <td>I rented this for my company's black tie award...</td>\n",
       "      <td>pear</td>\n",
       "      <td>Dress arrived on time and in perfect condition.</td>\n",
       "      <td>dress</td>\n",
       "      <td>5' 5\"</td>\n",
       "      <td>8</td>\n",
       "      <td>34</td>\n",
       "      <td>February 12, 2014</td>\n",
       "    </tr>\n",
       "    <tr>\n",
       "      <th>3</th>\n",
       "      <td>fit</td>\n",
       "      <td>151944</td>\n",
       "      <td>34b</td>\n",
       "      <td>616682</td>\n",
       "      <td>145lbs</td>\n",
       "      <td>10</td>\n",
       "      <td>wedding</td>\n",
       "      <td>I have always been petite in my upper body and...</td>\n",
       "      <td>athletic</td>\n",
       "      <td>Was in love with this dress !!!</td>\n",
       "      <td>gown</td>\n",
       "      <td>5' 9\"</td>\n",
       "      <td>12</td>\n",
       "      <td>27</td>\n",
       "      <td>September 26, 2016</td>\n",
       "    </tr>\n",
       "    <tr>\n",
       "      <th>4</th>\n",
       "      <td>fit</td>\n",
       "      <td>734848</td>\n",
       "      <td>32b</td>\n",
       "      <td>364092</td>\n",
       "      <td>138lbs</td>\n",
       "      <td>8</td>\n",
       "      <td>date</td>\n",
       "      <td>Didn't actually wear it. It fit perfectly. The...</td>\n",
       "      <td>athletic</td>\n",
       "      <td>Traditional with a touch a sass</td>\n",
       "      <td>dress</td>\n",
       "      <td>5' 8\"</td>\n",
       "      <td>8</td>\n",
       "      <td>45</td>\n",
       "      <td>April 30, 2016</td>\n",
       "    </tr>\n",
       "  </tbody>\n",
       "</table>\n",
       "</div>"
      ],
      "text/plain": [
       "   fit user_id bust size  item_id  weight rating     rented for  \\\n",
       "0  fit  273551       34b   153475  132lbs     10          other   \n",
       "1  fit  360448       NaN  1063761     NaN     10          party   \n",
       "2  fit  909926       34c   126335  135lbs      8  formal affair   \n",
       "3  fit  151944       34b   616682  145lbs     10        wedding   \n",
       "4  fit  734848       32b   364092  138lbs      8           date   \n",
       "\n",
       "                                         review_text          body type  \\\n",
       "0  I rented this dress for a photo shoot. The the...  straight & narrow   \n",
       "1  This hugged in all the right places! It was a ...                NaN   \n",
       "2  I rented this for my company's black tie award...               pear   \n",
       "3  I have always been petite in my upper body and...           athletic   \n",
       "4  Didn't actually wear it. It fit perfectly. The...           athletic   \n",
       "\n",
       "                                      review_summary category height  size  \\\n",
       "0                            I felt so glamourous!!!     gown  5' 6\"    12   \n",
       "1  It was a great time to celebrate the (almost) ...   sheath  5' 4\"     4   \n",
       "2   Dress arrived on time and in perfect condition.     dress  5' 5\"     8   \n",
       "3                    Was in love with this dress !!!     gown  5' 9\"    12   \n",
       "4                    Traditional with a touch a sass    dress  5' 8\"     8   \n",
       "\n",
       "   age         review_date  \n",
       "0   36       June 18, 2013  \n",
       "1  116   December 14, 2015  \n",
       "2   34   February 12, 2014  \n",
       "3   27  September 26, 2016  \n",
       "4   45      April 30, 2016  "
      ]
     },
     "execution_count": 4,
     "metadata": {},
     "output_type": "execute_result"
    }
   ],
   "source": [
    "clothing.head()"
   ]
  },
  {
   "cell_type": "code",
   "execution_count": 5,
   "id": "bb70117f-9399-40bd-9248-2be76efb277f",
   "metadata": {},
   "outputs": [
    {
     "name": "stdout",
     "output_type": "stream",
     "text": [
      "<class 'pandas.core.frame.DataFrame'>\n",
      "RangeIndex: 192461 entries, 0 to 192460\n",
      "Data columns (total 15 columns):\n",
      " #   Column          Non-Null Count   Dtype \n",
      "---  ------          --------------   ----- \n",
      " 0   fit             192461 non-null  object\n",
      " 1   user_id         192461 non-null  object\n",
      " 2   bust size       174064 non-null  object\n",
      " 3   item_id         192461 non-null  object\n",
      " 4   weight          162504 non-null  object\n",
      " 5   rating          192461 non-null  object\n",
      " 6   rented for      192451 non-null  object\n",
      " 7   review_text     192461 non-null  object\n",
      " 8   body type       177824 non-null  object\n",
      " 9   review_summary  192461 non-null  object\n",
      " 10  category        192461 non-null  object\n",
      " 11  height          191784 non-null  object\n",
      " 12  size            192461 non-null  int64 \n",
      " 13  age             191502 non-null  object\n",
      " 14  review_date     192461 non-null  object\n",
      "dtypes: int64(1), object(14)\n",
      "memory usage: 22.0+ MB\n"
     ]
    }
   ],
   "source": [
    "clothing.info()"
   ]
  },
  {
   "cell_type": "markdown",
   "id": "c686e3d3-ad3b-40ae-b68a-dd188aeb38d6",
   "metadata": {},
   "source": [
    "## Cleaning for Future Use"
   ]
  },
  {
   "cell_type": "code",
   "execution_count": 6,
   "id": "964060f7-c3d0-48c2-bd90-74debe850cff",
   "metadata": {},
   "outputs": [],
   "source": [
    "clothing['rating'] = pd.to_numeric(clothing['rating'])\n",
    "clothing['size'] = pd.to_numeric(clothing['size'])\n",
    "clothing['age'] = pd.to_numeric(clothing['age'])\n",
    "clothing['review_date'] = pd.to_datetime(clothing['review_date'])"
   ]
  },
  {
   "cell_type": "code",
   "execution_count": 7,
   "id": "f14271b4-a30f-455c-8267-c5f76ab98d84",
   "metadata": {},
   "outputs": [
    {
     "data": {
      "text/html": [
       "<div>\n",
       "<style scoped>\n",
       "    .dataframe tbody tr th:only-of-type {\n",
       "        vertical-align: middle;\n",
       "    }\n",
       "\n",
       "    .dataframe tbody tr th {\n",
       "        vertical-align: top;\n",
       "    }\n",
       "\n",
       "    .dataframe thead th {\n",
       "        text-align: right;\n",
       "    }\n",
       "</style>\n",
       "<table border=\"1\" class=\"dataframe\">\n",
       "  <thead>\n",
       "    <tr style=\"text-align: right;\">\n",
       "      <th></th>\n",
       "      <th>fit</th>\n",
       "      <th>user_id</th>\n",
       "      <th>bust size</th>\n",
       "      <th>item_id</th>\n",
       "      <th>weight</th>\n",
       "      <th>rating</th>\n",
       "      <th>rented for</th>\n",
       "      <th>review_text</th>\n",
       "      <th>body type</th>\n",
       "      <th>review_summary</th>\n",
       "      <th>category</th>\n",
       "      <th>height</th>\n",
       "      <th>size</th>\n",
       "      <th>age</th>\n",
       "      <th>review_date</th>\n",
       "    </tr>\n",
       "  </thead>\n",
       "  <tbody>\n",
       "    <tr>\n",
       "      <th>0</th>\n",
       "      <td>fit</td>\n",
       "      <td>273551</td>\n",
       "      <td>34b</td>\n",
       "      <td>153475</td>\n",
       "      <td>132lbs</td>\n",
       "      <td>10</td>\n",
       "      <td>other</td>\n",
       "      <td>I rented this dress for a photo shoot. The the...</td>\n",
       "      <td>straight &amp; narrow</td>\n",
       "      <td>I felt so glamourous!!!</td>\n",
       "      <td>gown</td>\n",
       "      <td>5' 6\"</td>\n",
       "      <td>12</td>\n",
       "      <td>36.0</td>\n",
       "      <td>2013-06-18</td>\n",
       "    </tr>\n",
       "    <tr>\n",
       "      <th>1</th>\n",
       "      <td>fit</td>\n",
       "      <td>360448</td>\n",
       "      <td>NaN</td>\n",
       "      <td>1063761</td>\n",
       "      <td>NaN</td>\n",
       "      <td>10</td>\n",
       "      <td>party</td>\n",
       "      <td>This hugged in all the right places! It was a ...</td>\n",
       "      <td>NaN</td>\n",
       "      <td>It was a great time to celebrate the (almost) ...</td>\n",
       "      <td>sheath</td>\n",
       "      <td>5' 4\"</td>\n",
       "      <td>4</td>\n",
       "      <td>116.0</td>\n",
       "      <td>2015-12-14</td>\n",
       "    </tr>\n",
       "    <tr>\n",
       "      <th>2</th>\n",
       "      <td>fit</td>\n",
       "      <td>909926</td>\n",
       "      <td>34c</td>\n",
       "      <td>126335</td>\n",
       "      <td>135lbs</td>\n",
       "      <td>8</td>\n",
       "      <td>formal affair</td>\n",
       "      <td>I rented this for my company's black tie award...</td>\n",
       "      <td>pear</td>\n",
       "      <td>Dress arrived on time and in perfect condition.</td>\n",
       "      <td>dress</td>\n",
       "      <td>5' 5\"</td>\n",
       "      <td>8</td>\n",
       "      <td>34.0</td>\n",
       "      <td>2014-02-12</td>\n",
       "    </tr>\n",
       "    <tr>\n",
       "      <th>3</th>\n",
       "      <td>fit</td>\n",
       "      <td>151944</td>\n",
       "      <td>34b</td>\n",
       "      <td>616682</td>\n",
       "      <td>145lbs</td>\n",
       "      <td>10</td>\n",
       "      <td>wedding</td>\n",
       "      <td>I have always been petite in my upper body and...</td>\n",
       "      <td>athletic</td>\n",
       "      <td>Was in love with this dress !!!</td>\n",
       "      <td>gown</td>\n",
       "      <td>5' 9\"</td>\n",
       "      <td>12</td>\n",
       "      <td>27.0</td>\n",
       "      <td>2016-09-26</td>\n",
       "    </tr>\n",
       "    <tr>\n",
       "      <th>4</th>\n",
       "      <td>fit</td>\n",
       "      <td>734848</td>\n",
       "      <td>32b</td>\n",
       "      <td>364092</td>\n",
       "      <td>138lbs</td>\n",
       "      <td>8</td>\n",
       "      <td>date</td>\n",
       "      <td>Didn't actually wear it. It fit perfectly. The...</td>\n",
       "      <td>athletic</td>\n",
       "      <td>Traditional with a touch a sass</td>\n",
       "      <td>dress</td>\n",
       "      <td>5' 8\"</td>\n",
       "      <td>8</td>\n",
       "      <td>45.0</td>\n",
       "      <td>2016-04-30</td>\n",
       "    </tr>\n",
       "  </tbody>\n",
       "</table>\n",
       "</div>"
      ],
      "text/plain": [
       "   fit user_id bust size  item_id  weight  rating     rented for  \\\n",
       "0  fit  273551       34b   153475  132lbs      10          other   \n",
       "1  fit  360448       NaN  1063761     NaN      10          party   \n",
       "2  fit  909926       34c   126335  135lbs       8  formal affair   \n",
       "3  fit  151944       34b   616682  145lbs      10        wedding   \n",
       "4  fit  734848       32b   364092  138lbs       8           date   \n",
       "\n",
       "                                         review_text          body type  \\\n",
       "0  I rented this dress for a photo shoot. The the...  straight & narrow   \n",
       "1  This hugged in all the right places! It was a ...                NaN   \n",
       "2  I rented this for my company's black tie award...               pear   \n",
       "3  I have always been petite in my upper body and...           athletic   \n",
       "4  Didn't actually wear it. It fit perfectly. The...           athletic   \n",
       "\n",
       "                                      review_summary category height  size  \\\n",
       "0                            I felt so glamourous!!!     gown  5' 6\"    12   \n",
       "1  It was a great time to celebrate the (almost) ...   sheath  5' 4\"     4   \n",
       "2   Dress arrived on time and in perfect condition.     dress  5' 5\"     8   \n",
       "3                    Was in love with this dress !!!     gown  5' 9\"    12   \n",
       "4                    Traditional with a touch a sass    dress  5' 8\"     8   \n",
       "\n",
       "     age review_date  \n",
       "0   36.0  2013-06-18  \n",
       "1  116.0  2015-12-14  \n",
       "2   34.0  2014-02-12  \n",
       "3   27.0  2016-09-26  \n",
       "4   45.0  2016-04-30  "
      ]
     },
     "execution_count": 7,
     "metadata": {},
     "output_type": "execute_result"
    }
   ],
   "source": [
    "clothing.head()"
   ]
  },
  {
   "cell_type": "code",
   "execution_count": 8,
   "id": "57c862d0-81d7-43d3-a83d-6587a9f9ece3",
   "metadata": {},
   "outputs": [
    {
     "name": "stdout",
     "output_type": "stream",
     "text": [
      "<class 'pandas.core.frame.DataFrame'>\n",
      "RangeIndex: 192461 entries, 0 to 192460\n",
      "Data columns (total 15 columns):\n",
      " #   Column          Non-Null Count   Dtype         \n",
      "---  ------          --------------   -----         \n",
      " 0   fit             192461 non-null  object        \n",
      " 1   user_id         192461 non-null  object        \n",
      " 2   bust size       174064 non-null  object        \n",
      " 3   item_id         192461 non-null  object        \n",
      " 4   weight          162504 non-null  object        \n",
      " 5   rating          192461 non-null  int64         \n",
      " 6   rented for      192451 non-null  object        \n",
      " 7   review_text     192461 non-null  object        \n",
      " 8   body type       177824 non-null  object        \n",
      " 9   review_summary  192461 non-null  object        \n",
      " 10  category        192461 non-null  object        \n",
      " 11  height          191784 non-null  object        \n",
      " 12  size            192461 non-null  int64         \n",
      " 13  age             191502 non-null  float64       \n",
      " 14  review_date     192461 non-null  datetime64[ns]\n",
      "dtypes: datetime64[ns](1), float64(1), int64(2), object(11)\n",
      "memory usage: 22.0+ MB\n"
     ]
    }
   ],
   "source": [
    "clothing.info()"
   ]
  },
  {
   "cell_type": "markdown",
   "id": "e813831c-93d0-4967-b3f0-f02ff9bf1072",
   "metadata": {},
   "source": [
    "## Simple EDA"
   ]
  },
  {
   "cell_type": "markdown",
   "id": "cb839bb2-18ff-426d-947c-62ec8bbee495",
   "metadata": {
    "tags": []
   },
   "source": [
    "#### Number Entries"
   ]
  },
  {
   "cell_type": "code",
   "execution_count": 9,
   "id": "eae1f50b-c713-4a06-ab37-56a06f004acb",
   "metadata": {},
   "outputs": [
    {
     "data": {
      "text/plain": [
       "192461"
      ]
     },
     "execution_count": 9,
     "metadata": {},
     "output_type": "execute_result"
    }
   ],
   "source": [
    "clothing.shape[0]"
   ]
  },
  {
   "cell_type": "markdown",
   "id": "75f1a415-3198-454f-88e7-c77ec0740e83",
   "metadata": {},
   "source": [
    "#### Number Users"
   ]
  },
  {
   "cell_type": "code",
   "execution_count": 10,
   "id": "29ab065b-5711-4422-a77c-67eeb95979b9",
   "metadata": {},
   "outputs": [
    {
     "data": {
      "text/plain": [
       "105508"
      ]
     },
     "execution_count": 10,
     "metadata": {},
     "output_type": "execute_result"
    }
   ],
   "source": [
    "pd.unique(clothing['user_id']).shape[0]"
   ]
  },
  {
   "cell_type": "markdown",
   "id": "ee344a4a-ae89-4785-9202-0e978ec43cb5",
   "metadata": {},
   "source": [
    "#### Number Items"
   ]
  },
  {
   "cell_type": "code",
   "execution_count": 11,
   "id": "80f77f1f-b229-4bb6-aa11-8cb63d7b46f0",
   "metadata": {},
   "outputs": [
    {
     "data": {
      "text/plain": [
       "5850"
      ]
     },
     "execution_count": 11,
     "metadata": {},
     "output_type": "execute_result"
    }
   ],
   "source": [
    "pd.unique(clothing['item_id']).shape[0]"
   ]
  },
  {
   "cell_type": "markdown",
   "id": "07a4e96b-0de4-4c0e-bdec-3f57b63b4176",
   "metadata": {
    "tags": []
   },
   "source": [
    "#### Distribution of Ratings"
   ]
  },
  {
   "cell_type": "code",
   "execution_count": 12,
   "id": "50f0a1f9-5ec3-4f86-9156-c8365a25cbd5",
   "metadata": {},
   "outputs": [],
   "source": [
    "rating_count = clothing['rating'].value_counts().to_frame().reset_index()"
   ]
  },
  {
   "cell_type": "code",
   "execution_count": 13,
   "id": "ef82a17c-83ad-4531-b294-892f7b8804a2",
   "metadata": {},
   "outputs": [
    {
     "data": {
      "image/png": "[encoded data removed]",
      "text/plain": [
       "<Figure size 640x480 with 1 Axes>"
      ]
     },
     "metadata": {},
     "output_type": "display_data"
    }
   ],
   "source": [
    "plt.bar(x='index', height='rating', data=rating_count, width=1.75);\n",
    "plt.xlabel('Rating');\n",
    "plt.ylabel('Counts');\n",
    "plt.title('Distribution of Ratings');"
   ]
  },
  {
   "cell_type": "markdown",
   "id": "bc19eadb-54c7-4b1e-b969-d731e5ebce82",
   "metadata": {},
   "source": [
    "#### Time Period"
   ]
  },
  {
   "cell_type": "code",
   "execution_count": 14,
   "id": "bd437d2b-a018-4227-9b71-7087552cd4f9",
   "metadata": {},
   "outputs": [
    {
     "data": {
      "text/plain": [
       "Timestamp('2018-01-08 00:00:00')"
      ]
     },
     "execution_count": 14,
     "metadata": {},
     "output_type": "execute_result"
    }
   ],
   "source": [
    "clothing['review_date'].max()"
   ]
  },
  {
   "cell_type": "code",
   "execution_count": 15,
   "id": "1ba01ee4-9929-4225-b83a-43c9dd89f2ee",
   "metadata": {},
   "outputs": [
    {
     "data": {
      "text/plain": [
       "Timestamp('2010-11-03 00:00:00')"
      ]
     },
     "execution_count": 15,
     "metadata": {},
     "output_type": "execute_result"
    }
   ],
   "source": [
    "clothing['review_date'].min()"
   ]
  },
  {
   "cell_type": "code",
   "execution_count": 16,
   "id": "46961935-a7db-401b-a349-e22feefea2fa",
   "metadata": {},
   "outputs": [
    {
     "data": {
      "text/plain": [
       "Timedelta('2623 days 00:00:00')"
      ]
     },
     "execution_count": 16,
     "metadata": {},
     "output_type": "execute_result"
    }
   ],
   "source": [
    "clothing['review_date'].max() - clothing['review_date'].min()"
   ]
  },
  {
   "cell_type": "code",
   "execution_count": 17,
   "id": "a226380a-01b0-482a-a313-bc242a57e9bc",
   "metadata": {},
   "outputs": [
    {
     "data": {
      "image/png": "[encoded data removed]",
      "text/plain": [
       "<Figure size 640x480 with 1 Axes>"
      ]
     },
     "metadata": {},
     "output_type": "display_data"
    }
   ],
   "source": [
    "plt.hist(data=clothing, x='review_date');\n",
    "plt.xlabel('Review Date');\n",
    "plt.ylabel('Counts');\n",
    "plt.title('Distribution of Review Dates');"
   ]
  },
  {
   "cell_type": "markdown",
   "id": "a8fee993-94fe-4cb8-92b8-bcd0f02e2f97",
   "metadata": {},
   "source": [
    "## Extra EDA"
   ]
  },
  {
   "cell_type": "markdown",
   "id": "e6b1d62c-0b67-4366-a621-47d3cabdf6ea",
   "metadata": {},
   "source": [
    "#### Top Categories"
   ]
  },
  {
   "cell_type": "code",
   "execution_count": 18,
   "id": "c573816d-e535-4473-88d7-2179fa30a40d",
   "metadata": {},
   "outputs": [],
   "source": [
    "cat_count = clothing['category'].value_counts().to_frame().reset_index()[:5]"
   ]
  },
  {
   "cell_type": "code",
   "execution_count": 19,
   "id": "c6f60cf4-03f4-4b2a-a754-2573f5ce2e1d",
   "metadata": {},
   "outputs": [
    {
     "data": {
      "image/png": "[encoded data removed]",
      "text/plain": [
       "<Figure size 640x480 with 1 Axes>"
      ]
     },
     "metadata": {},
     "output_type": "display_data"
    }
   ],
   "source": [
    "plt.bar(x='index', height='category', data=cat_count);\n",
    "plt.xlabel('Categories');\n",
    "plt.ylabel('Counts');\n",
    "plt.title('Top 5 Categories');"
   ]
  },
  {
   "cell_type": "markdown",
   "id": "b822e557-0ac6-488c-ba4e-181ec519d245",
   "metadata": {},
   "source": [
    "#### Correlation Between Ratings and Categories?"
   ]
  },
  {
   "cell_type": "code",
   "execution_count": 20,
   "id": "252bae7c-975c-4314-9502-7f23e4e12b4e",
   "metadata": {},
   "outputs": [
    {
     "data": {
      "image/png": "[encoded data removed]",
      "text/plain": [
       "<Figure size 640x480 with 1 Axes>"
      ]
     },
     "metadata": {},
     "output_type": "display_data"
    }
   ],
   "source": [
    "cats = ['dress', 'gown', 'sheath', 'shift', 'jumpsuit']\n",
    "pos = clothing[(clothing['rating'] == 10) & (clothing['category'].isin(cats))].groupby('category')[['rating']].count().rename(columns={'rating': 'Positive'})\n",
    "neg = clothing[(clothing['rating'] <= 8) & (clothing['category'].isin(cats))].groupby('category')[['rating']].count().rename(columns={'rating': 'Negative'})\n",
    "merged = pos.merge(neg, left_index=True, right_index=True)\n",
    "merged.plot.bar();\n",
    "plt.xticks(rotation = 0);\n",
    "plt.xlabel('Categories');\n",
    "plt.ylabel('Counts');\n",
    "plt.title('Categories Rated Distribution');"
   ]
  },
  {
   "cell_type": "markdown",
   "id": "921a8b2a-6f7d-4cb3-8a6d-d25c18e098d2",
   "metadata": {},
   "source": [
    "Our dataset is from Rent the Runway, a clothing brand in which people are able to rent clothes from for any ocassion. The dataset contains 192,461 unique entries, which include 105,508 unique users and 5,850 unique items. It contains 15 columns as described below after basic cleaning:\n",
    "\n",
    "- fit (str): Clothing fit for item\n",
    "- user_id (int): Unique user_id that left review for a clothing item\n",
    "- bust size (str): Bust size of user\n",
    "- item_id (int): Unique item_id for the item being reviewed\n",
    "- weight (int): Weight of user in pounds\n",
    "- rating (int): Rating left by the user, with 1 being the lowest rating possible and 10 being highest rating possible\n",
    "- rented for (str): Ocassion item was rented for\n",
    "- review_text (str): Review left by user for item\n",
    "- body type (str): Body type of user\n",
    "- review_summary (str): Summarized and shortened version of review_text\n",
    "- category (str): type of clothing style for the particular item\n",
    "- height (int): Height of user in inches\n",
    "- size (int): Size of item\n",
    "- age (int): Age of user\n",
    "- review_date (datetime): Timestamp of when review was published\n",
    "\n",
    "Taking a look at review_date, most of the data is more towards the recent end, as the graph is negatively-skewed:\n",
    "\n",
    "(SHOW GRAPH)\n",
    "\n",
    "While not an important factor, it suggests that there might be a bias due to fashion style and trends during this time period. The oldest review date was left on November 3, 2010, in contrast to the most recent review being left on January 8, 2018. This timespan covers 2623 days, or roughly ~7.186 years.\n",
    "\n",
    "With one of our models predicting the rating a user will give an item, we decided to look at the distribution of the ratings:\n",
    "\n",
    "(SHOW GRAPH)\n",
    "\n",
    "To our surprise, this distribution is also negatively-skewed, with more people opting to give items a rating of 10. This somewhat makes sense as people only tend to leave reviews for items that they either strongly like or strongly dislike. With this theory, however, there are hardly any negative ratings, suggesting that most people tend to only leave positive reviews.\n",
    "\n",
    "Another trend we decided to look at is categories and how they might affect rating. Firstly, we plotted the distribution of the top 5 categories of items:\n",
    "\n",
    "(SHOW GRAPH)\n",
    "\n",
    "These categories turned out to be dress, gown, sheath, shift, and jumpsuit. The gap from the most popular category to the second-most popular category is quite large, as there is also dropoff in each subsequent category. Using this, we decided to see how ratings were for each category. In this instance, a positive rating is a 10 and anything below 10 is considered a negative rating:\n",
    "\n",
    "(SHOW GRAPH)\n",
    "\n",
    "While it was assumed that there would be more positive than negative ratings based on the previously shown distribution, the gap is still large, particularly for the dress, gown, and sheath categories respectively. While it could suggest that Rent the Runway is a reputable site to rent clothes from, it could also be that the company is deleting negative reviews so that new customers are intrigued rather than losing interest and moving to a different site."
   ]
  }
 ],
 "metadata": {
  "kernelspec": {
   "display_name": "Python 3 (ipykernel)",
   "language": "python",
   "name": "python3"
  },
  "language_info": {
   "codemirror_mode": {
    "name": "ipython",
    "version": 3
   },
   "file_extension": ".py",
   "mimetype": "text/x-python",
   "name": "python",
   "nbconvert_exporter": "python",
   "pygments_lexer": "ipython3",
   "version": "3.9.13"
  }
 },
 "nbformat": 4,
 "nbformat_minor": 5
}
